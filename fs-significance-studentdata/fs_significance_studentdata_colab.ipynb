{
  "cells": [
    {
      "cell_type": "markdown",
      "metadata": {},
      "source": [
        "# Feature Selection Significance on Student Performance (Colab Notebook)\n",
        "\n",
        "This notebook reproduces the full pipeline for **feature-selection significance**\n",
        "(Binary / Five-Level / Regression) as in your public repository.\n",
        "\n",
        "- Leak-free, fold-internal FS (Varimax, LASSO, RFE, TreeImp, Min2, Union, Intersection)\n",
        "- Significance tests: **Friedman** and **Wilcoxon**\n",
        "- Outputs: Tables 3\u20135 with mean\u00b1CI and significance marks\n",
        "\n",
        "> Reference: *Cortez & Silva (2008) \u2014 Student Performance Dataset (UCI)*"
      ]
    },
    {
      "cell_type": "markdown",
      "metadata": {},
      "source": [
        "## 1) Setup \u2014 Install Dependencies (run this cell)"
      ]
    },
    {
      "cell_type": "code",
      "metadata": {},
      "source": [
        "!pip -q install factor-analyzer tabulate xgboost"
      ]
    },
    {
      "cell_type": "markdown",
      "metadata": {},
      "source": [
        "## 2) Download Dataset from Your GitHub (run this cell)\n",
        "This will place the CSV exactly where the script expects it (`/content/student-mat.csv`)."
      ]
    },
    {
      "cell_type": "code",
      "metadata": {},
      "source": [
        "import os\n",
        "os.makedirs('/content', exist_ok=True)\n",
        "!wget -O /content/student-mat.csv https://raw.githubusercontent.com/karman09/student-performance-FS-significance/main/fs-significance-studentdata/student-mat.csv"
      ]
    },
    {
      "cell_type": "markdown",
      "metadata": {},
      "source": [
        "## 3) Fetch the Main Script from Your GitHub (run this cell)\n",
        "This downloads the **exact** Python file you host in your repo into the Colab runtime."
      ]
    },
    {
      "cell_type": "code",
      "metadata": {},
      "source": [
        "!wget -O full_master_v3_8_FSsignif.py https://raw.githubusercontent.com/karman09/student-performance-FS-significance/main/fs-significance-studentdata/full_master_v3_8_FSsignif.py\n",
        "!ls -lh full_master_v3_8_FSsignif.py"
      ]
    },
    {
      "cell_type": "markdown",
      "metadata": {},
      "source": [
        "## 4) Run the Full Pipeline (Tables 3\u20135)\n",
        "Click \u25b6 to execute. This will:\n",
        "\n",
        "- Read `/content/student-mat.csv`\n",
        "- Produce Tables 3\u20135 (Binary, Five-Level, Regression)\n",
        "- Print significance summaries (Friedman + Wilcoxon)\n",
        "- Export CSVs to `/content/results/`\n"
      ]
    },
    {
      "cell_type": "code",
      "metadata": {},
      "source": [
        "%run full_master_v3_8_FSsignif.py"
      ]
    },
    {
      "cell_type": "markdown",
      "metadata": {},
      "source": [
        "## 5) Optional: Inspect Generated CSVs\n",
        "If you want to preview the CSV outputs generated under `/content/results/`, run:"
      ]
    },
    {
      "cell_type": "code",
      "metadata": {},
      "source": [
        "import os, pandas as pd\n",
        "base = '/content/results'\n",
        "print('Files under /content/results:')\n",
        "print(os.listdir(base) if os.path.exists(base) else 'No results found yet.')\n",
        "\n",
        "# Example: preview one CSV if exists\n",
        "for fname in (os.listdir(base) if os.path.exists(base) else []):\n",
        "    if fname.endswith('.csv'):\n",
        "        print('\\nPreview of', fname)\n",
        "        display(pd.read_csv(os.path.join(base, fname)).head())\n",
        "        break"
      ]
    },
    {
      "cell_type": "markdown",
      "metadata": {},
      "source": [
        "## 6) Notes on Reproducibility\n",
        "- The script uses **`FAST_MODE=True`** by default for quick runs in Colab.\n",
        "- To run the full research-grade CV (10\u00d720), set `FAST_MODE=False` **in the Python file** and re-run the pipeline.\n"
      ]
    },
    {
      "cell_type": "markdown",
      "metadata": {},
      "source": [
        "## 7) Citation & License\n",
        "- *Cortez, P., & Silva, A. M. G. (2008).* Using Data Mining to Predict Secondary School Student Performance. UMinho, Portugal. (UCI Repository)\n",
        "- This notebook and script are released under the **MIT License** (see repository `LICENSE`)."
      ]
    }
  ],
  "metadata": {
    "kernelspec": {
      "display_name": "Python 3",
      "language": "python",
      "name": "python3"
    },
    "language_info": {
      "name": "python",
      "version": "3.10"
    }
  },
  "nbformat": 4,
  "nbformat_minor": 5
}
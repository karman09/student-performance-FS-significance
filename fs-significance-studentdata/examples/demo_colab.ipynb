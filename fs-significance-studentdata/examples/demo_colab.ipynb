{
  "cells": [
    {
      "cell_type": "markdown",
      "metadata": {},
      "source": [
        "# Demo \u2014 fs-significance-studentdata\n\nThis notebook shows how to run the full_master_v3_8_ABC_ONLY pipeline on Google Colab.\n\nUpload `student-mat.csv` and run the script below."
      ]
    },
    {
      "cell_type": "code",
      "metadata": {},
      "source": [
        "!python fs_significance/full_master_v3_8_ABC_ONLY.py"
      ],
      "outputs": []
    }
  ],
  "metadata": {
    "language_info": {
      "name": "python"
    }
  },
  "nbformat": 4,
  "nbformat_minor": 2
}